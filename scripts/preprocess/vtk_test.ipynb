{
 "cells": [
  {
   "cell_type": "code",
   "execution_count": 1,
   "metadata": {},
   "outputs": [],
   "source": [
    "import vtk\n",
    "import numpy as np\n",
    "import os \n",
    "from pathlib import Path\n",
    "import vtkmodules.util.numpy_support"
   ]
  },
  {
   "cell_type": "code",
   "execution_count": 3,
   "metadata": {},
   "outputs": [
    {
     "ename": "",
     "evalue": "",
     "output_type": "error",
     "traceback": [
      "\u001b[1;31mThe Kernel crashed while executing code in the current cell or a previous cell. \n",
      "\u001b[1;31mPlease review the code in the cell(s) to identify a possible cause of the failure. \n",
      "\u001b[1;31mClick <a href='https://aka.ms/vscodeJupyterKernelCrash'>here</a> for more info. \n",
      "\u001b[1;31mView Jupyter <a href='command:jupyter.viewOutput'>log</a> for further details."
     ]
    }
   ],
   "source": [
    "vtk.vtkImageReader(file_path)"
   ]
  },
  {
   "cell_type": "code",
   "execution_count": 2,
   "metadata": {},
   "outputs": [
    {
     "data": {
      "text/plain": [
       "<vtkmodules.vtkCommonDataModel.vtkImageData(0x000001D66C730BE0) at 0x000001D67F4866E0>"
      ]
     },
     "execution_count": 2,
     "metadata": {},
     "output_type": "execute_result"
    }
   ],
   "source": [
    "def load_vtk_file(file_path):\n",
    "    # Leitura do arquivo VTK\n",
    "    reader = vtk.vtkXMLImageDataReader()\n",
    "    reader.SetFileName(file_path)\n",
    "    reader.Update()\n",
    "\n",
    "    return reader.GetOutput()\n",
    "\n",
    "file_path = r\"C:\\ic_exxon\\porenet_data_augmentation\\data\\vtk\\polyhedra_output_-polyhedra-00000000.vtk\"\n",
    "vtk_file = load_vtk_file(file_path)\n",
    "\n",
    "vtk_file"
   ]
  },
  {
   "cell_type": "code",
   "execution_count": 59,
   "metadata": {},
   "outputs": [],
   "source": [
    "vtk.vtkMatrix4x4().Identity()"
   ]
  },
  {
   "cell_type": "code",
   "execution_count": 57,
   "metadata": {},
   "outputs": [
    {
     "data": {
      "text/plain": [
       "array([1.24617431e-311])"
      ]
     },
     "execution_count": 57,
     "metadata": {},
     "output_type": "execute_result"
    }
   ],
   "source": [
    "def apply_slice(vtk_data, slice_position, output_dim=2):\n",
    "    # Filtro para aplicar o slice\n",
    "    reslice = vtk.vtkImageReslice()\n",
    "    reslice.SetInputData(vtk_data)\n",
    "    reslice.SetOutputDimensionality(output_dim)\n",
    "    \n",
    "    # Definir a posição do slice (por exemplo, no eixo Z)\n",
    "    matrix = vtk.vtkMatrix4x4()\n",
    "    matrix.Identity()\n",
    "    matrix.SetElement(2, 3, slice_position)  # Mover o plano do slice para a posição desejada no eixo Z\n",
    "    reslice.SetResliceAxes(matrix)\n",
    "    \n",
    "    reslice.Update()\n",
    "\n",
    "    return reslice.GetOutput()\n",
    "\n",
    "slice_data = apply_slice(vtk_file, 0, 0)\n",
    "\n",
    "vtk_array = vtkmodules.util.numpy_support.vtk_to_numpy(\n",
    "    slice_data.GetPointData().GetScalars()\n",
    ")\n",
    "\n",
    "vtk_array"
   ]
  },
  {
   "cell_type": "code",
   "execution_count": 40,
   "metadata": {},
   "outputs": [
    {
     "ename": "ValueError",
     "evalue": "cannot reshape array of size 8 into shape (2,2)",
     "output_type": "error",
     "traceback": [
      "\u001b[1;31m---------------------------------------------------------------------------\u001b[0m",
      "\u001b[1;31mValueError\u001b[0m                                Traceback (most recent call last)",
      "Cell \u001b[1;32mIn[40], line 3\u001b[0m\n\u001b[0;32m      1\u001b[0m vtk_array \u001b[38;5;241m=\u001b[39m vtkmodules\u001b[38;5;241m.\u001b[39mutil\u001b[38;5;241m.\u001b[39mnumpy_support\u001b[38;5;241m.\u001b[39mvtk_to_numpy(\n\u001b[0;32m      2\u001b[0m     slice_data\u001b[38;5;241m.\u001b[39mGetPointData()\u001b[38;5;241m.\u001b[39mGetScalars()\n\u001b[1;32m----> 3\u001b[0m )\u001b[38;5;241m.\u001b[39mreshape(\n\u001b[0;32m      4\u001b[0m     slice_data\u001b[38;5;241m.\u001b[39mGetDimensions()[\u001b[38;5;241m1\u001b[39m],\n\u001b[0;32m      5\u001b[0m     slice_data\u001b[38;5;241m.\u001b[39mGetDimensions()[\u001b[38;5;241m0\u001b[39m]\n\u001b[0;32m      6\u001b[0m )\n",
      "\u001b[1;31mValueError\u001b[0m: cannot reshape array of size 8 into shape (2,2)"
     ]
    }
   ],
   "source": [
    "vtk_array = vtkmodules.util.numpy_support.vtk_to_numpy(\n",
    "    slice_data.GetPointData().GetScalars()\n",
    ").reshape(\n",
    "    slice_data.GetDimensions()[1],\n",
    "    slice_data.GetDimensions()[0]\n",
    ")"
   ]
  },
  {
   "cell_type": "code",
   "execution_count": 38,
   "metadata": {},
   "outputs": [
    {
     "data": {
      "text/plain": [
       "[<matplotlib.lines.Line2D at 0x24b463c1810>,\n",
       " <matplotlib.lines.Line2D at 0x24b463d4a50>]"
      ]
     },
     "execution_count": 38,
     "metadata": {},
     "output_type": "execute_result"
    },
    {
     "data": {
      "image/png": "[encoded data removed]",
      "text/plain": [
       "<Figure size 640x480 with 1 Axes>"
      ]
     },
     "metadata": {},
     "output_type": "display_data"
    }
   ],
   "source": [
    "import matplotlib.pyplot as plt\n",
    "\n",
    "plt.plot(vtk_array)\n"
   ]
  },
  {
   "cell_type": "code",
   "execution_count": null,
   "metadata": {},
   "outputs": [],
   "source": [
    "def vtk_to_numpy(vtk_data):\n",
    "    # Converte o resultado do slice VTK para numpy array\n",
    "    dims = vtk_data.GetDimensions()\n",
    "    vtk_array = vtk_data.GetPointData().GetScalars()\n",
    "    numpy_array = vtkmodules.util.numpy_support.vtk_to_numpy(vtk_array)\n",
    "    \n",
    "    return numpy_array.reshape(dims[1], dims[0])  # Reshape de acordo com as dimensões do slice"
   ]
  },
  {
   "cell_type": "code",
   "execution_count": 27,
   "metadata": {},
   "outputs": [
    {
     "data": {
      "text/plain": [
       "<vtkmodules.vtkCommonCore.vtkTypeFloat64Array(0x0000024B3E6C1C20) at 0x0000024B41959DE0>"
      ]
     },
     "execution_count": 27,
     "metadata": {},
     "output_type": "execute_result"
    }
   ],
   "source": [
    "slice_data.GetPointData().GetScalars()"
   ]
  },
  {
   "cell_type": "code",
   "execution_count": null,
   "metadata": {},
   "outputs": [],
   "source": []
  }
 ],
 "metadata": {
  "kernelspec": {
   "display_name": "base",
   "language": "python",
   "name": "python3"
  },
  "language_info": {
   "codemirror_mode": {
    "name": "ipython",
    "version": 3
   },
   "file_extension": ".py",
   "mimetype": "text/x-python",
   "name": "python",
   "nbconvert_exporter": "python",
   "pygments_lexer": "ipython3",
   "version": "3.12.4"
  }
 },
 "nbformat": 4,
 "nbformat_minor": 2
}
